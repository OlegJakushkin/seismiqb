{
 "cells": [
  {
   "cell_type": "markdown",
   "metadata": {},
   "source": [
    "# Iterative research results\n",
    "\n",
    "This notebooks loads dataframe with experiment-based information and extracts basic info about its results."
   ]
  },
  {
   "cell_type": "code",
   "execution_count": 1,
   "metadata": {},
   "outputs": [],
   "source": [
    "# Necessary imports\n",
    "import sys\n",
    "import warnings\n",
    "import pandas as pd\n",
    "import numpy as np\n",
    "\n",
    "sys.path.append('../..')\n",
    "from seismiqb.batchflow.research import Results\n",
    "\n",
    "warnings.filterwarnings(\"ignore\")"
   ]
  },
  {
   "cell_type": "markdown",
   "metadata": {},
   "source": [
    "The next two cells simply load dataframe from disk and transform it into more plausible one."
   ]
  },
  {
   "cell_type": "code",
   "execution_count": 2,
   "metadata": {},
   "outputs": [
    {
     "data": {
      "text/plain": [
       "5"
      ]
     },
     "execution_count": 2,
     "metadata": {},
     "output_type": "execute_result"
    }
   ],
   "source": [
    "res_name = 'Research_iterative'\n",
    "results = Results(res_name)\n",
    "len(results.df)"
   ]
  },
  {
   "cell_type": "code",
   "execution_count": 3,
   "metadata": {},
   "outputs": [],
   "source": [
    "columns = [\n",
    "    'coverages', 'window_rates', 'corrs', 'local_corrs',    \n",
    "]\n",
    "df = results.df[columns + ['cube_and_horizon', 'repetition']]\n",
    "\n",
    "df['cube_name'] = df['cube_and_horizon'].apply(lambda item: item.split('+')[0])\n",
    "df['horizon_name'] = df['cube_and_horizon'].apply(lambda item: item.split('+')[1])\n",
    "\n",
    "dff = (df\n",
    "       .reset_index()\n",
    "       .set_index(['cube_name', 'horizon_name'])[columns])"
   ]
  },
  {
   "cell_type": "code",
   "execution_count": 4,
   "metadata": {},
   "outputs": [
    {
     "name": "stdout",
     "output_type": "stream",
     "text": [
      "5\n"
     ]
    },
    {
     "data": {
      "text/html": [
       "<div>\n",
       "<style scoped>\n",
       "    .dataframe tbody tr th:only-of-type {\n",
       "        vertical-align: middle;\n",
       "    }\n",
       "\n",
       "    .dataframe tbody tr th {\n",
       "        vertical-align: top;\n",
       "    }\n",
       "\n",
       "    .dataframe thead th {\n",
       "        text-align: right;\n",
       "    }\n",
       "</style>\n",
       "<table border=\"1\" class=\"dataframe\">\n",
       "  <thead>\n",
       "    <tr style=\"text-align: right;\">\n",
       "      <th></th>\n",
       "      <th></th>\n",
       "      <th>coverages</th>\n",
       "      <th>window_rates</th>\n",
       "      <th>corrs</th>\n",
       "      <th>local_corrs</th>\n",
       "    </tr>\n",
       "    <tr>\n",
       "      <th>cube_name</th>\n",
       "      <th>horizon_name</th>\n",
       "      <th></th>\n",
       "      <th></th>\n",
       "      <th></th>\n",
       "      <th></th>\n",
       "    </tr>\n",
       "  </thead>\n",
       "  <tbody>\n",
       "    <tr>\n",
       "      <th rowspan=\"5\" valign=\"top\">M_cube</th>\n",
       "      <th>t0_J1_anon</th>\n",
       "      <td>[0.9988092841813403, 0.9988092841813403, 0.999...</td>\n",
       "      <td>[0.9977560460498376, 0.9977560460498376, 0.999...</td>\n",
       "      <td>[0.9042262554177692, 0.9042262554177692, 0.904...</td>\n",
       "      <td>[0.9818937404859199, 0.9818937404859199, 0.983...</td>\n",
       "    </tr>\n",
       "    <tr>\n",
       "      <th>t0_B_anon</th>\n",
       "      <td>[0.996546924125887, 0.996546924125887, 0.99787...</td>\n",
       "      <td>[1.0, 1.0, 1.0]</td>\n",
       "      <td>[0.9645355741286292, 0.9645355741286292, 0.963...</td>\n",
       "      <td>[0.9865410404239828, 0.9865410404239828, 0.986...</td>\n",
       "    </tr>\n",
       "    <tr>\n",
       "      <th>t0_M_anon</th>\n",
       "      <td>[0.9969693447377448, 0.9969693447377448, 0.999...</td>\n",
       "      <td>[0.9999885078606233, 0.9999885078606233, 0.999...</td>\n",
       "      <td>[0.835260571264512, 0.835260571264512, 0.84253...</td>\n",
       "      <td>[0.973125155215927, 0.973125155215927, 0.97309...</td>\n",
       "    </tr>\n",
       "    <tr>\n",
       "      <th>t0_G_anon</th>\n",
       "      <td>[0.9979587728822977, 0.9979587728822977, 0.999...</td>\n",
       "      <td>[0.9997503851814872, 0.9997503851814872, 0.999...</td>\n",
       "      <td>[0.840445385306522, 0.840445385306522, 0.84648...</td>\n",
       "      <td>[0.9694810525563998, 0.9694810525563998, 0.969...</td>\n",
       "    </tr>\n",
       "    <tr>\n",
       "      <th>t0_BV8_anon</th>\n",
       "      <td>[0.9675189734895628, 0.9675189734895628, 0.987...</td>\n",
       "      <td>[0.9680577939635701, 0.9680577939635701, 0.970...</td>\n",
       "      <td>[0.46532628394605663, 0.46532628394605663, 0.4...</td>\n",
       "      <td>[0.9315018178347402, 0.9315018178347402, 0.934...</td>\n",
       "    </tr>\n",
       "  </tbody>\n",
       "</table>\n",
       "</div>"
      ],
      "text/plain": [
       "                                                                coverages  \\\n",
       "cube_name horizon_name                                                      \n",
       "M_cube    t0_J1_anon    [0.9988092841813403, 0.9988092841813403, 0.999...   \n",
       "          t0_B_anon     [0.996546924125887, 0.996546924125887, 0.99787...   \n",
       "          t0_M_anon     [0.9969693447377448, 0.9969693447377448, 0.999...   \n",
       "          t0_G_anon     [0.9979587728822977, 0.9979587728822977, 0.999...   \n",
       "          t0_BV8_anon   [0.9675189734895628, 0.9675189734895628, 0.987...   \n",
       "\n",
       "                                                             window_rates  \\\n",
       "cube_name horizon_name                                                      \n",
       "M_cube    t0_J1_anon    [0.9977560460498376, 0.9977560460498376, 0.999...   \n",
       "          t0_B_anon                                       [1.0, 1.0, 1.0]   \n",
       "          t0_M_anon     [0.9999885078606233, 0.9999885078606233, 0.999...   \n",
       "          t0_G_anon     [0.9997503851814872, 0.9997503851814872, 0.999...   \n",
       "          t0_BV8_anon   [0.9680577939635701, 0.9680577939635701, 0.970...   \n",
       "\n",
       "                                                                    corrs  \\\n",
       "cube_name horizon_name                                                      \n",
       "M_cube    t0_J1_anon    [0.9042262554177692, 0.9042262554177692, 0.904...   \n",
       "          t0_B_anon     [0.9645355741286292, 0.9645355741286292, 0.963...   \n",
       "          t0_M_anon     [0.835260571264512, 0.835260571264512, 0.84253...   \n",
       "          t0_G_anon     [0.840445385306522, 0.840445385306522, 0.84648...   \n",
       "          t0_BV8_anon   [0.46532628394605663, 0.46532628394605663, 0.4...   \n",
       "\n",
       "                                                              local_corrs  \n",
       "cube_name horizon_name                                                     \n",
       "M_cube    t0_J1_anon    [0.9818937404859199, 0.9818937404859199, 0.983...  \n",
       "          t0_B_anon     [0.9865410404239828, 0.9865410404239828, 0.986...  \n",
       "          t0_M_anon     [0.973125155215927, 0.973125155215927, 0.97309...  \n",
       "          t0_G_anon     [0.9694810525563998, 0.9694810525563998, 0.969...  \n",
       "          t0_BV8_anon   [0.9315018178347402, 0.9315018178347402, 0.934...  "
      ]
     },
     "execution_count": 4,
     "metadata": {},
     "output_type": "execute_result"
    }
   ],
   "source": [
    "pd.set_option('display.max_rows', 10)\n",
    "\n",
    "print(len(dff))\n",
    "dff.head(10)"
   ]
  },
  {
   "cell_type": "markdown",
   "metadata": {},
   "source": [
    "These are `coverage`s and metrics for every step of iterative research process:\n",
    "- the first one is detection from a sparce carcass itself (column `0`)\n",
    "- every odd number (1 and 3 in this case) are extension steps: in most cases, we can see the increase in the  amount of labeled points\n",
    "- every even number (2 and 4 in this case) are enhancement steps: there is a slight improvement in `local_corrs` metric on these ones"
   ]
  },
  {
   "cell_type": "code",
   "execution_count": 5,
   "metadata": {},
   "outputs": [
    {
     "data": {
      "text/html": [
       "<div>\n",
       "<style scoped>\n",
       "    .dataframe tbody tr th:only-of-type {\n",
       "        vertical-align: middle;\n",
       "    }\n",
       "\n",
       "    .dataframe tbody tr th {\n",
       "        vertical-align: top;\n",
       "    }\n",
       "\n",
       "    .dataframe thead th {\n",
       "        text-align: right;\n",
       "    }\n",
       "</style>\n",
       "<table border=\"1\" class=\"dataframe\">\n",
       "  <thead>\n",
       "    <tr style=\"text-align: right;\">\n",
       "      <th></th>\n",
       "      <th></th>\n",
       "      <th>window_rate_0</th>\n",
       "      <th>window_rate_1</th>\n",
       "      <th>window_rate_2</th>\n",
       "      <th>coverage_0</th>\n",
       "      <th>coverage_1</th>\n",
       "      <th>coverage_2</th>\n",
       "      <th>corr_0</th>\n",
       "      <th>corr_1</th>\n",
       "      <th>corr_2</th>\n",
       "    </tr>\n",
       "    <tr>\n",
       "      <th>cube_name</th>\n",
       "      <th>horizon_name</th>\n",
       "      <th></th>\n",
       "      <th></th>\n",
       "      <th></th>\n",
       "      <th></th>\n",
       "      <th></th>\n",
       "      <th></th>\n",
       "      <th></th>\n",
       "      <th></th>\n",
       "      <th></th>\n",
       "    </tr>\n",
       "  </thead>\n",
       "  <tbody>\n",
       "    <tr>\n",
       "      <th rowspan=\"5\" valign=\"top\">M_cube</th>\n",
       "      <th>t0_BV8_anon</th>\n",
       "      <td>0.968058</td>\n",
       "      <td>0.968058</td>\n",
       "      <td>0.970166</td>\n",
       "      <td>0.967519</td>\n",
       "      <td>0.967519</td>\n",
       "      <td>0.987670</td>\n",
       "      <td>0.465326</td>\n",
       "      <td>0.465326</td>\n",
       "      <td>0.486649</td>\n",
       "    </tr>\n",
       "    <tr>\n",
       "      <th>t0_B_anon</th>\n",
       "      <td>1.000000</td>\n",
       "      <td>1.000000</td>\n",
       "      <td>1.000000</td>\n",
       "      <td>0.996547</td>\n",
       "      <td>0.996547</td>\n",
       "      <td>0.997871</td>\n",
       "      <td>0.964536</td>\n",
       "      <td>0.964536</td>\n",
       "      <td>0.963867</td>\n",
       "    </tr>\n",
       "    <tr>\n",
       "      <th>t0_G_anon</th>\n",
       "      <td>0.999750</td>\n",
       "      <td>0.999750</td>\n",
       "      <td>0.999745</td>\n",
       "      <td>0.997959</td>\n",
       "      <td>0.997959</td>\n",
       "      <td>0.999586</td>\n",
       "      <td>0.840445</td>\n",
       "      <td>0.840445</td>\n",
       "      <td>0.846482</td>\n",
       "    </tr>\n",
       "    <tr>\n",
       "      <th>t0_J1_anon</th>\n",
       "      <td>0.997756</td>\n",
       "      <td>0.997756</td>\n",
       "      <td>0.999859</td>\n",
       "      <td>0.998809</td>\n",
       "      <td>0.998809</td>\n",
       "      <td>0.999212</td>\n",
       "      <td>0.904226</td>\n",
       "      <td>0.904226</td>\n",
       "      <td>0.904998</td>\n",
       "    </tr>\n",
       "    <tr>\n",
       "      <th>t0_M_anon</th>\n",
       "      <td>0.999989</td>\n",
       "      <td>0.999989</td>\n",
       "      <td>0.999997</td>\n",
       "      <td>0.996969</td>\n",
       "      <td>0.996969</td>\n",
       "      <td>0.999736</td>\n",
       "      <td>0.835261</td>\n",
       "      <td>0.835261</td>\n",
       "      <td>0.842532</td>\n",
       "    </tr>\n",
       "  </tbody>\n",
       "</table>\n",
       "</div>"
      ],
      "text/plain": [
       "                        window_rate_0  window_rate_1  window_rate_2  \\\n",
       "cube_name horizon_name                                                \n",
       "M_cube    t0_BV8_anon        0.968058       0.968058       0.970166   \n",
       "          t0_B_anon          1.000000       1.000000       1.000000   \n",
       "          t0_G_anon          0.999750       0.999750       0.999745   \n",
       "          t0_J1_anon         0.997756       0.997756       0.999859   \n",
       "          t0_M_anon          0.999989       0.999989       0.999997   \n",
       "\n",
       "                        coverage_0  coverage_1  coverage_2    corr_0  \\\n",
       "cube_name horizon_name                                                 \n",
       "M_cube    t0_BV8_anon     0.967519    0.967519    0.987670  0.465326   \n",
       "          t0_B_anon       0.996547    0.996547    0.997871  0.964536   \n",
       "          t0_G_anon       0.997959    0.997959    0.999586  0.840445   \n",
       "          t0_J1_anon      0.998809    0.998809    0.999212  0.904226   \n",
       "          t0_M_anon       0.996969    0.996969    0.999736  0.835261   \n",
       "\n",
       "                          corr_1    corr_2  \n",
       "cube_name horizon_name                      \n",
       "M_cube    t0_BV8_anon   0.465326  0.486649  \n",
       "          t0_B_anon     0.964536  0.963867  \n",
       "          t0_G_anon     0.840445  0.846482  \n",
       "          t0_J1_anon    0.904226  0.904998  \n",
       "          t0_M_anon     0.835261  0.842532  "
      ]
     },
     "execution_count": 5,
     "metadata": {},
     "output_type": "execute_result"
    }
   ],
   "source": [
    "wr = dff['window_rates'].apply(pd.Series).rename({i : f'window_rate_{i}' for i in range(3)}, axis=1)\n",
    "cov = dff['coverages'].apply(pd.Series).rename({i : f'coverage_{i}' for i in range(3)}, axis=1)\n",
    "corrs = dff['corrs'].apply(pd.Series).rename({i : f'corr_{i}' for i in range(3)}, axis=1)\n",
    "\n",
    "pd.concat((wr, cov, corrs), axis=1).sort_index()"
   ]
  },
  {
   "cell_type": "markdown",
   "metadata": {},
   "source": [
    "Those three tables confirm that our postprocessing steps, namely extension and enhancement, do indeed enlarge the horizon and improve its quality. At the same time, the enhancement steps is not as noticeable and must be further developed."
   ]
  }
 ],
 "metadata": {
  "kernelspec": {
   "display_name": "Python 3",
   "language": "python",
   "name": "python3"
  },
  "language_info": {
   "codemirror_mode": {
    "name": "ipython",
    "version": 3
   },
   "file_extension": ".py",
   "mimetype": "text/x-python",
   "name": "python",
   "nbconvert_exporter": "python",
   "pygments_lexer": "ipython3",
   "version": "3.6.9"
  }
 },
 "nbformat": 4,
 "nbformat_minor": 4
}
